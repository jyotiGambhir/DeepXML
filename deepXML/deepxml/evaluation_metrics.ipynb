{
 "cells": [
  {
   "cell_type": "markdown",
   "metadata": {},
   "source": [
    "# Getting All Labels"
   ]
  },
  {
   "cell_type": "code",
   "execution_count": 109,
   "metadata": {
    "ExecuteTime": {
     "end_time": "2020-05-17T08:20:40.876473Z",
     "start_time": "2020-05-17T08:20:40.872282Z"
    }
   },
   "outputs": [],
   "source": [
    "import pandas as pd\n",
    "import numpy as np\n",
    "import math"
   ]
  },
  {
   "cell_type": "code",
   "execution_count": 110,
   "metadata": {
    "ExecuteTime": {
     "end_time": "2020-05-17T08:20:40.892028Z",
     "start_time": "2020-05-17T08:20:40.882222Z"
    }
   },
   "outputs": [],
   "source": [
    "debug_flag = True"
   ]
  },
  {
   "cell_type": "code",
   "execution_count": 111,
   "metadata": {
    "ExecuteTime": {
     "end_time": "2020-05-17T08:20:40.907066Z",
     "start_time": "2020-05-17T08:20:40.894065Z"
    }
   },
   "outputs": [],
   "source": [
    "def calculate_top_k_score(predicted_list,actual_list,top_k):\n",
    "    predicted_list_local = None\n",
    "    final_score_value = 0\n",
    "    iteration = min(top_k,len(predicted_list))\n",
    "    for index in range(iteration):\n",
    "        lcl_value = predicted_list[index]\n",
    "        if lcl_value in actual_list:\n",
    "            final_score_value = final_score_value + 1\n",
    "    \n",
    "    if debug_flag and final_score_value>0:\n",
    "        print(\"\")\n",
    "        print(final_score_value)\n",
    "        print(\"\")\n",
    "\n",
    "    return final_score_value"
   ]
  },
  {
   "cell_type": "code",
   "execution_count": 112,
   "metadata": {
    "ExecuteTime": {
     "end_time": "2020-05-17T08:20:40.929019Z",
     "start_time": "2020-05-17T08:20:40.909089Z"
    }
   },
   "outputs": [],
   "source": [
    "def calculate_top_k_score_dcn(predicted_list,actual_list,top_k):\n",
    "    \n",
    "    predicted_list_local = None\n",
    "    final_score_value = 0\n",
    "    \n",
    "    iteration = top_k\n",
    "    \n",
    "    for index in range(iteration):\n",
    "        \n",
    "        if len(predicted_list) <= index:\n",
    "            break\n",
    "            \n",
    "        lcl_value = predicted_list[index]\n",
    "        if lcl_value in actual_list:\n",
    "            final_score_value = final_score_value + (1/np.log2(index +1 + 1))\n",
    "    \n",
    "    return final_score_value"
   ]
  },
  {
   "cell_type": "code",
   "execution_count": 113,
   "metadata": {
    "ExecuteTime": {
     "end_time": "2020-05-17T08:20:40.947893Z",
     "start_time": "2020-05-17T08:20:40.930592Z"
    }
   },
   "outputs": [],
   "source": [
    "def calculate_top_k_score_i_dcn(predicted_list,actual_list,top_k):\n",
    "    \n",
    "    predicted_list_local = None\n",
    "    final_score_value = 0\n",
    "    iteration = min(top_k,len(predicted_list))\n",
    "    \n",
    "    for index in range(iteration):\n",
    "        lcl_value = predicted_list[index]\n",
    "        \n",
    "#         if lcl_value in actual_list:\n",
    "        final_score_value = final_score_value + (1 / np.log2(index + 1 +1))\n",
    "    \n",
    "    return final_score_value"
   ]
  },
  {
   "cell_type": "code",
   "execution_count": 114,
   "metadata": {
    "ExecuteTime": {
     "end_time": "2020-05-17T08:20:40.963998Z",
     "start_time": "2020-05-17T08:20:40.949362Z"
    }
   },
   "outputs": [],
   "source": [
    "def read_file_and_get_details(predicted_label_name,actual_label_name):\n",
    "    df_predicted_labels = pd.read_csv('EUR-Lex_labels_1024', sep=\"\\n\",header=None)\n",
    "    df_actual_labels = pd.read_csv('EUR-Lex_test_labels.txt', sep=\"\\n\",header=None)\n",
    "    return df_predicted_labels,df_actual_labels"
   ]
  },
  {
   "cell_type": "code",
   "execution_count": 115,
   "metadata": {
    "ExecuteTime": {
     "end_time": "2020-05-17T08:20:40.982741Z",
     "start_time": "2020-05-17T08:20:40.965300Z"
    }
   },
   "outputs": [],
   "source": [
    "top = 3"
   ]
  },
  {
   "cell_type": "markdown",
   "metadata": {},
   "source": [
    "# Get Details "
   ]
  },
  {
   "cell_type": "code",
   "execution_count": 116,
   "metadata": {
    "ExecuteTime": {
     "end_time": "2020-05-17T08:20:41.033588Z",
     "start_time": "2020-05-17T08:20:40.984021Z"
    }
   },
   "outputs": [
    {
     "name": "stdout",
     "output_type": "stream",
     "text": [
      "(3865,)\n",
      "(3865,)\n"
     ]
    }
   ],
   "source": [
    "df_predicted_labels,df_actual_labels = \\\n",
    "read_file_and_get_details('EUR-Lex_labels_1024','EUR-Lex_test_labels.txt')\n",
    "print(df_predicted_labels[0].shape)\n",
    "print(df_actual_labels[0].shape)"
   ]
  },
  {
   "cell_type": "markdown",
   "metadata": {},
   "source": [
    "# Set the K "
   ]
  },
  {
   "cell_type": "code",
   "execution_count": 117,
   "metadata": {
    "ExecuteTime": {
     "end_time": "2020-05-17T08:20:41.038842Z",
     "start_time": "2020-05-17T08:20:41.036495Z"
    }
   },
   "outputs": [],
   "source": [
    "k = 50"
   ]
  },
  {
   "attachments": {
    "image.png": {
     "image/png": "[encoded data removed]"
    }
   },
   "cell_type": "markdown",
   "metadata": {},
   "source": [
    "# Calculate Precision ![image.png](attachment:image.png)"
   ]
  },
  {
   "cell_type": "code",
   "execution_count": 118,
   "metadata": {
    "ExecuteTime": {
     "end_time": "2020-05-17T08:20:41.071082Z",
     "start_time": "2020-05-17T08:20:41.041103Z"
    }
   },
   "outputs": [],
   "source": [
    "def evaluate_score(df_predicted_labels,df_actual_labels,top_k):\n",
    "    \n",
    "    final_shape = min(df_predicted_labels[0].shape[0],df_actual_labels[0].shape[0])\n",
    "#     print(final_shape)\n",
    "    \n",
    "    get_score = 0\n",
    "\n",
    "    for iteration in range(final_shape):\n",
    "        \n",
    "        # get Predicted Label\n",
    "        predicted_label = df_predicted_labels[0][iteration]\n",
    "        predicted_label_list = predicted_label.split(' ')\n",
    "        \n",
    "        # get Actual Label \n",
    "        actual_label = df_actual_labels[0][iteration]\n",
    "        actual_label_list = actual_label.split(' ')\n",
    "#         if iteration>1000:\n",
    "#             break\n",
    "        get_score = get_score + \\\n",
    "        calculate_top_k_score(predicted_label_list,actual_label_list,top_k) \n",
    "    \n",
    "    return get_score"
   ]
  },
  {
   "cell_type": "code",
   "execution_count": 119,
   "metadata": {
    "ExecuteTime": {
     "end_time": "2020-05-17T08:20:41.093886Z",
     "start_time": "2020-05-17T08:20:41.072548Z"
    }
   },
   "outputs": [],
   "source": [
    "def evaluate_precision(df_predicted_labels,df_actual_labels,top_k):\n",
    "\n",
    "    final_shape = min(df_predicted_labels[0].shape[0],df_actual_labels[0].shape[0])\n",
    "#     print(final_shape)\n",
    "    \n",
    "    get_score = evaluate_score(df_predicted_labels,df_actual_labels,top_k)\n",
    "        \n",
    "    final_score = (get_score) \n",
    "    \n",
    "    return final_score"
   ]
  },
  {
   "cell_type": "code",
   "execution_count": 127,
   "metadata": {
    "ExecuteTime": {
     "end_time": "2020-05-17T09:47:07.546458Z",
     "start_time": "2020-05-17T09:47:06.873417Z"
    }
   },
   "outputs": [
    {
     "name": "stdout",
     "output_type": "stream",
     "text": [
      " Value of K  1\n",
      " Value of precision_value  0.2095730918499353\n",
      " Value of K  2\n",
      " Value of precision_value  0.22652005174644244\n",
      " Value of K  3\n",
      " Value of precision_value  0.23458387235877534\n",
      " Value of K  4\n",
      " Value of precision_value  0.22509702457956016\n",
      " Value of K  5\n",
      " Value of precision_value  0.22473479948253558\n",
      " Value of K  10\n",
      " Value of precision_value  0.19971539456662354\n",
      " Value of K  15\n",
      " Value of precision_value  0.17845623113410952\n",
      " Value of K  50\n",
      " Value of precision_value  0.06267011642949548\n"
     ]
    }
   ],
   "source": [
    "for k in [1,2,3,4,5,10,15,50]:\n",
    "    \n",
    "    debug_flag = False\n",
    "    \n",
    "    final_shape = min(df_predicted_labels[0].shape[0],df_actual_labels[0].shape[0])\n",
    "#     print(final_shape)\n",
    "\n",
    "    precision_value = 0\n",
    "    \n",
    "#     for index_k in range(k):\n",
    "    precision_value = \\\n",
    "    evaluate_precision(df_predicted_labels,df_actual_labels,k)\n",
    "        \n",
    "    precision_value =  precision_value / (k * final_shape)\n",
    "    \n",
    "    print(\" Value of K \",k)\n",
    "    print(\" Value of precision_value \",precision_value)"
   ]
  },
  {
   "attachments": {
    "image.png": {
     "image/png": "[encoded data removed]"
    }
   },
   "cell_type": "markdown",
   "metadata": {},
   "source": [
    "# Getting DCG ![image.png](attachment:image.png)"
   ]
  },
  {
   "cell_type": "code",
   "execution_count": 121,
   "metadata": {
    "ExecuteTime": {
     "end_time": "2020-05-17T08:20:41.647048Z",
     "start_time": "2020-05-17T08:20:41.640143Z"
    }
   },
   "outputs": [],
   "source": [
    "def evaluate_dcn(df_predicted_labels,df_actual_labels,top_k):\n",
    "\n",
    "    final_shape = min(df_predicted_labels[0].shape[0],df_actual_labels[0].shape[0])\n",
    "#     print(final_shape)\n",
    "    \n",
    "    get_dcn_score = 0\n",
    "\n",
    "    for iteration in range(final_shape):\n",
    "        \n",
    "        # get Predicted Label\n",
    "        predicted_label = df_predicted_labels[0][iteration]\n",
    "        predicted_label_list = predicted_label.split(' ')\n",
    "        \n",
    "        # get Actual Label \n",
    "        actual_label = df_actual_labels[0][iteration]\n",
    "        actual_label_list = actual_label.split(' ')\n",
    "\n",
    "        get_dcn_score = get_dcn_score + \\\n",
    "        (calculate_top_k_score_dcn(predicted_label_list,actual_label_list,top_k))\n",
    "    \n",
    "    return get_dcn_score"
   ]
  },
  {
   "cell_type": "code",
   "execution_count": 122,
   "metadata": {
    "ExecuteTime": {
     "end_time": "2020-05-17T08:20:42.284568Z",
     "start_time": "2020-05-17T08:20:41.648511Z"
    }
   },
   "outputs": [
    {
     "name": "stdout",
     "output_type": "stream",
     "text": [
      " Value of K  1\n",
      " Value of dcn_value  810.0\n",
      " Value of K  3\n",
      " Value of dcn_value  1888.2048981107719\n",
      " Value of K  5\n",
      " Value of dcn_value  2549.3730548899107\n",
      " Value of K  10\n",
      " Value of dcn_value  3630.7778292807034\n",
      " Value of K  15\n",
      " Value of dcn_value  4325.832078788619\n",
      " Value of K  50\n",
      " Value of dcn_value  4743.039596046979\n"
     ]
    }
   ],
   "source": [
    "for k in [1,3,5,10,15,50]:\n",
    "    debug_flag = False\n",
    "    \n",
    "    final_shape = min(df_predicted_labels[0].shape[0],df_actual_labels[0].shape[0])\n",
    "#     print(final_shape)\n",
    "\n",
    "    dcn_value = 0\n",
    "\n",
    "    dcn_value = dcn_value + evaluate_dcn(df_predicted_labels,df_actual_labels,k)\n",
    "    \n",
    "    print(\" Value of K \",k)\n",
    "    print(\" Value of dcn_value \",dcn_value)"
   ]
  },
  {
   "attachments": {
    "image.png": {
     "image/png": "[encoded data removed]"
    }
   },
   "cell_type": "markdown",
   "metadata": {},
   "source": [
    "# Getting DCGi ![image.png](attachment:image.png)"
   ]
  },
  {
   "cell_type": "code",
   "execution_count": 123,
   "metadata": {
    "ExecuteTime": {
     "end_time": "2020-05-17T08:20:42.292921Z",
     "start_time": "2020-05-17T08:20:42.286200Z"
    }
   },
   "outputs": [],
   "source": [
    "def evaluate_dcn_i(df_predicted_labels,df_actual_labels,top_k):\n",
    "\n",
    "    final_shape = min(df_predicted_labels[0].shape[0],df_actual_labels[0].shape[0])    \n",
    "    get_dcn_score = 0\n",
    "    for iteration in range(final_shape):\n",
    "        # get Predicted Label\n",
    "        predicted_label = df_predicted_labels[0][iteration]\n",
    "        predicted_label_list = predicted_label.split(' ')\n",
    "        \n",
    "        # get Actual Label \n",
    "        actual_label = df_actual_labels[0][iteration]\n",
    "        actual_label_list = actual_label.split(' ')\n",
    "        \n",
    "        get_dcn_score = get_dcn_score + \\\n",
    "        calculate_top_k_score_i_dcn(predicted_label_list,actual_label_list,top_k)\n",
    "        \n",
    "    return get_dcn_score"
   ]
  },
  {
   "cell_type": "code",
   "execution_count": 124,
   "metadata": {
    "ExecuteTime": {
     "end_time": "2020-05-17T08:20:43.185413Z",
     "start_time": "2020-05-17T08:20:42.295239Z"
    }
   },
   "outputs": [
    {
     "name": "stdout",
     "output_type": "stream",
     "text": [
      " Value of K  1\n",
      " Value of dcn_value  3865.0\n",
      " Value of K  3\n",
      " Value of dcn_value  8236.043497554165\n",
      " Value of K  5\n",
      " Value of dcn_value  11395.794494468631\n",
      " Value of K  10\n",
      " Value of dcn_value  17560.85684171099\n",
      " Value of K  15\n",
      " Value of dcn_value  22653.860012322184\n",
      " Value of K  50\n",
      " Value of dcn_value  27204.344975569726\n"
     ]
    }
   ],
   "source": [
    "for k in [1,3,5,10,15,50]:\n",
    "    debug_flag = False\n",
    "    \n",
    "    final_shape = min(df_predicted_labels[0].shape[0],df_actual_labels[0].shape[0])\n",
    "#     print(final_shape)\n",
    "\n",
    "    dcn_value = 0\n",
    "    dcn_value = dcn_value + evaluate_dcn_i(df_predicted_labels,df_actual_labels,k)\n",
    "    \n",
    "    print(\" Value of K \",k)\n",
    "    print(\" Value of dcn_value \",dcn_value)"
   ]
  },
  {
   "attachments": {
    "image.png": {
     "image/png": "[encoded data removed]"
    }
   },
   "cell_type": "markdown",
   "metadata": {},
   "source": [
    "# Get nDCG  ![image.png](attachment:image.png)"
   ]
  },
  {
   "cell_type": "code",
   "execution_count": 125,
   "metadata": {
    "ExecuteTime": {
     "end_time": "2020-05-17T08:20:43.572945Z",
     "start_time": "2020-05-17T08:20:43.186900Z"
    }
   },
   "outputs": [],
   "source": [
    "def evaluate_n_dcn_k(df_predicted_labels,df_actual_labels,top_k):\n",
    "    dcn_score = evaluate_dcn(df_predicted_labels,df_actual_labels,top_k)\n",
    "    dcn_score_i = evaluate_dcn_i(df_predicted_labels,df_actual_labels,top_k)\n",
    "    return (dcn_score/dcn_score_i)"
   ]
  },
  {
   "cell_type": "code",
   "execution_count": 126,
   "metadata": {
    "ExecuteTime": {
     "end_time": "2020-05-17T08:20:45.102271Z",
     "start_time": "2020-05-17T08:20:43.579618Z"
    }
   },
   "outputs": [
    {
     "name": "stdout",
     "output_type": "stream",
     "text": [
      " Value of K  1\n",
      " Value of dcn_value  0.2095730918499353\n",
      " Value of K  3\n",
      " Value of dcn_value  0.22926116146320827\n",
      " Value of K  5\n",
      " Value of dcn_value  0.2237117434968964\n",
      " Value of K  10\n",
      " Value of dcn_value  0.20675402470435203\n",
      " Value of K  15\n",
      " Value of dcn_value  0.19095342146705485\n",
      " Value of K  50\n",
      " Value of dcn_value  0.17434860498594482\n"
     ]
    }
   ],
   "source": [
    "for k in [1,3,5,10,15,50]:\n",
    "    debug_flag = False\n",
    "    \n",
    "    final_shape = min(df_predicted_labels[0].shape[0],df_actual_labels[0].shape[0])\n",
    "#     print(final_shape)\n",
    "\n",
    "    dcn_value = 0\n",
    "    dcn_value = dcn_value + evaluate_n_dcn_k(df_predicted_labels,df_actual_labels,k)\n",
    "    \n",
    "    print(\" Value of K \",k)\n",
    "    print(\" Value of dcn_value \",dcn_value)"
   ]
  },
  {
   "cell_type": "code",
   "execution_count": null,
   "metadata": {},
   "outputs": [],
   "source": []
  },
  {
   "cell_type": "code",
   "execution_count": null,
   "metadata": {},
   "outputs": [],
   "source": []
  }
 ],
 "metadata": {
  "kernelspec": {
   "display_name": "Python 3",
   "language": "python",
   "name": "python3"
  },
  "language_info": {
   "codemirror_mode": {
    "name": "ipython",
    "version": 3
   },
   "file_extension": ".py",
   "mimetype": "text/x-python",
   "name": "python",
   "nbconvert_exporter": "python",
   "pygments_lexer": "ipython3",
   "version": "3.6.9"
  }
 },
 "nbformat": 4,
 "nbformat_minor": 4
}
