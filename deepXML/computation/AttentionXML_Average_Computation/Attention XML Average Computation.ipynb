{
 "cells": [
  {
   "cell_type": "markdown",
   "metadata": {},
   "source": [
    "# Average Computation"
   ]
  },
  {
   "cell_type": "code",
   "execution_count": 66,
   "metadata": {},
   "outputs": [],
   "source": [
    "import os\n",
    "import numpy as np\n",
    "\n",
    "debug_flag = False"
   ]
  },
  {
   "cell_type": "code",
   "execution_count": 70,
   "metadata": {},
   "outputs": [],
   "source": [
    "# a = np.array([[1,2,3],[2,3,4]])\n",
    "# z = np.zeros((2,1), dtype=a.dtype)\n",
    "# np.append(a, z, axis=1)\n",
    "# b = np.hstack((a, np.zeros((a.shape[0], 1), dtype=a.dtype)))"
   ]
  },
  {
   "cell_type": "code",
   "execution_count": 71,
   "metadata": {},
   "outputs": [],
   "source": [
    "def get_all_file(path):\n",
    "    arr = os.listdir(\"./results\")\n",
    "    return arr\n",
    "\n",
    "def load_matrix(root,data):\n",
    "    full_path = root + \"/\" + data\n",
    "    if debug_flag == True:\n",
    "        print(\" Full Path ---- \",full_path)\n",
    "        \n",
    "    temp = np.load(full_path)\n",
    "    return temp\n",
    "\n",
    "def initial_matrix():\n",
    "    initial_data = np.zeros((2048,500))\n",
    "    return initial_data\n",
    "\n",
    "def get_shape_and_pad(data):\n",
    "    \n",
    "    _shape = data.shape\n",
    "\n",
    "    if debug_flag == True:\n",
    "        print(\" Shapes \",_shape)\n",
    "    \n",
    "    diff = 0\n",
    "    \n",
    "    if(int(_shape[1]) < 500):\n",
    "        \n",
    "        if debug_flag == True:\n",
    "            print(\" Reduce Data \")\n",
    "            \n",
    "        diff = 500 - int(_shape[1])\n",
    "        \n",
    "    if diff>0:\n",
    "        temp = np.zeros((_shape[0],diff), dtype=data.dtype)\n",
    "        data = np.append(data,temp,axis=1)\n",
    "    \n",
    "    return data\n",
    "    \n",
    "def read_all_file(path):\n",
    "    all_files = get_all_file(path)\n",
    "    i = 0\n",
    "    \n",
    "    initial_data = initial_matrix() \n",
    "    \n",
    "    for each_item in all_files:\n",
    "        final_matrix = load_matrix(path,each_item)\n",
    "        if debug_flag == True:\n",
    "            print(final_matrix.shape)\n",
    "        final_matrix = get_shape_and_pad(final_matrix)\n",
    "        if debug_flag == True:\n",
    "            print(final_matrix.shape)\n",
    "#         print(\" Item Data \", final_matrix[0][0])        \n",
    "        initial_data = initial_data + final_matrix\n",
    "#         print(\" initial_data \", initial_data[0][0])\n",
    "        \n",
    "#         if i > 2 :\n",
    "#             break\n",
    "            \n",
    "        i = i + 1\n",
    "        if debug_flag == True:\n",
    "            print(i)\n",
    "        \n",
    "    return initial_data"
   ]
  },
  {
   "cell_type": "code",
   "execution_count": 73,
   "metadata": {},
   "outputs": [
    {
     "name": "stdout",
     "output_type": "stream",
     "text": [
      "[[3208.47875488 4716.1486485  5580.29639792 ...   70.72059605\n",
      "    83.20760535   98.47416687]\n",
      " [3611.8385461  5033.51970828 6052.89221567 ...   64.21289347\n",
      "    71.82146597   79.97251892]\n",
      " [3472.28243899 4652.23753935 5460.78139383 ...   70.29032036\n",
      "    79.34009827   89.75682068]\n",
      " ...\n",
      " [4503.72119972 5724.90860873 5431.83702445 ...   81.45852835\n",
      "    79.19203525   66.19632721]\n",
      " [4282.24434492 5656.76254582 5573.98260033 ...   75.54036635\n",
      "    75.12389235   65.51557159]\n",
      " [4387.98464328 6530.96626204 6276.04864222 ...   58.17414798\n",
      "    52.93834687   43.92849731]]\n",
      "\n",
      "(2048, 500)\n"
     ]
    }
   ],
   "source": [
    "initial_data = read_all_file(\"./results\")\n",
    "\n",
    "print(initial_data)\n",
    "\n",
    "initial_data = initial_data / 3 \n",
    "\n",
    "size_of_training_set = 486449\n",
    "\n",
    "initial_data = initial_data / size_of_training_set\n",
    "\n",
    "print()\n",
    "print(initial_data.shape)\n"
   ]
  },
  {
   "cell_type": "code",
   "execution_count": null,
   "metadata": {},
   "outputs": [],
   "source": []
  },
  {
   "cell_type": "code",
   "execution_count": null,
   "metadata": {},
   "outputs": [],
   "source": []
  }
 ],
 "metadata": {
  "kernelspec": {
   "display_name": "Python 3",
   "language": "python",
   "name": "python3"
  },
  "language_info": {
   "codemirror_mode": {
    "name": "ipython",
    "version": 3
   },
   "file_extension": ".py",
   "mimetype": "text/x-python",
   "name": "python",
   "nbconvert_exporter": "python",
   "pygments_lexer": "ipython3",
   "version": "3.6.9"
  }
 },
 "nbformat": 4,
 "nbformat_minor": 4
}
